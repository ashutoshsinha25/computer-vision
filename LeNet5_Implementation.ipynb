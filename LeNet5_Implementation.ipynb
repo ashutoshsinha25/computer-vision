{
  "nbformat": 4,
  "nbformat_minor": 0,
  "metadata": {
    "colab": {
      "provenance": [],
      "collapsed_sections": [],
      "authorship_tag": "ABX9TyPPP1uukekeMROTroE1K7nv",
      "include_colab_link": true
    },
    "kernelspec": {
      "name": "python3",
      "display_name": "Python 3"
    },
    "language_info": {
      "name": "python"
    },
    "accelerator": "GPU"
  },
  "cells": [
    {
      "cell_type": "markdown",
      "metadata": {
        "id": "view-in-github",
        "colab_type": "text"
      },
      "source": [
        "<a href=\"https://colab.research.google.com/github/ashutoshsinha25/computer-vision/blob/main/LeNet5_Implementation.ipynb\" target=\"_parent\"><img src=\"https://colab.research.google.com/assets/colab-badge.svg\" alt=\"Open In Colab\"/></a>"
      ]
    },
    {
      "cell_type": "markdown",
      "source": [
        "### code implementation of LeNet 5 paper "
      ],
      "metadata": {
        "id": "8QtGjKllEkBj"
      }
    },
    {
      "cell_type": "code",
      "source": [
        "from keras.datasets import mnist\n",
        "from keras.layers import Conv2D , MaxPooling2D\n",
        "from keras.layers import Dense , Flatten \n",
        "from keras.models import Sequential \n",
        "import keras"
      ],
      "metadata": {
        "id": "LUhNP56UEoIV"
      },
      "execution_count": null,
      "outputs": []
    },
    {
      "cell_type": "code",
      "source": [
        "# load the dataset and perform splitting \n",
        "(X_train , y_train) , (X_test , y_test) = mnist.load_data()"
      ],
      "metadata": {
        "colab": {
          "base_uri": "https://localhost:8080/"
        },
        "id": "B4-kW2qiEscI",
        "outputId": "d9ace1c1-31f6-4bc7-9c45-061b61a6950c"
      },
      "execution_count": null,
      "outputs": [
        {
          "output_type": "stream",
          "name": "stdout",
          "text": [
            "Downloading data from https://storage.googleapis.com/tensorflow/tf-keras-datasets/mnist.npz\n",
            "11490434/11490434 [==============================] - 0s 0us/step\n"
          ]
        }
      ]
    },
    {
      "cell_type": "code",
      "source": [
        "X_train.shape , X_test.shape , y_train.shape , y_test.shape"
      ],
      "metadata": {
        "colab": {
          "base_uri": "https://localhost:8080/"
        },
        "id": "5bJQXLCzFGeV",
        "outputId": "e9fba87e-93ef-4696-ef38-582bf8abb15b"
      },
      "execution_count": null,
      "outputs": [
        {
          "output_type": "execute_result",
          "data": {
            "text/plain": [
              "((60000, 28, 28), (10000, 28, 28), (60000,), (10000,))"
            ]
          },
          "metadata": {},
          "execution_count": 3
        }
      ]
    },
    {
      "cell_type": "code",
      "source": [
        "#reshapping \n",
        "X_train = X_train.reshape(X_train.shape[0] , 28,28,1)\n",
        "X_test = X_test.reshape(X_test.shape[0] , 28,28,1)"
      ],
      "metadata": {
        "id": "-DbhZ2jMFRHm"
      },
      "execution_count": null,
      "outputs": []
    },
    {
      "cell_type": "code",
      "source": [
        "X_train.shape , X_test.shape"
      ],
      "metadata": {
        "colab": {
          "base_uri": "https://localhost:8080/"
        },
        "id": "qzg3kGXlFdSs",
        "outputId": "ddf44a30-b936-43dc-f535-4a4a3c26be3e"
      },
      "execution_count": null,
      "outputs": [
        {
          "output_type": "execute_result",
          "data": {
            "text/plain": [
              "((60000, 28, 28, 1), (10000, 28, 28, 1))"
            ]
          },
          "metadata": {},
          "execution_count": 5
        }
      ]
    },
    {
      "cell_type": "code",
      "source": [
        "# normalization\n",
        "X_train = X_train/255.\n",
        "X_test = X_test/255."
      ],
      "metadata": {
        "id": "P_wEBpkXFfXu"
      },
      "execution_count": null,
      "outputs": []
    },
    {
      "cell_type": "code",
      "source": [
        "# one hot encoding \n",
        "y_train = keras.utils.to_categorical(y_train , 10)\n",
        "y_test = keras.utils.to_categorical(y_test , 10)"
      ],
      "metadata": {
        "id": "CNL65D3LFpIu"
      },
      "execution_count": null,
      "outputs": []
    },
    {
      "cell_type": "code",
      "source": [
        "# building model architecture \n",
        "# using relu instead of tanh\n",
        "model = Sequential() \n",
        "\n",
        "model.add(Conv2D(6 , kernel_size = (5,5) , activation = 'relu' , input_shape = (28,28,1)))\n",
        "model.add(MaxPooling2D(pool_size = (2,2)))\n",
        "model.add(Conv2D(16 , kernel_size = (5,5) , activation = 'relu'))\n",
        "model.add(MaxPooling2D(pool_size = (2,2)))\n",
        "model.add(Flatten())\n",
        "model.add(Dense(120 , activation = 'relu'))\n",
        "model.add(Dense(84 , activation = 'relu'))\n",
        "model.add(Dense(10 , activation = 'softmax'))\n",
        "\n",
        "model.summary()"
      ],
      "metadata": {
        "colab": {
          "base_uri": "https://localhost:8080/"
        },
        "id": "AnpWiLYeF1QI",
        "outputId": "d1e4ebec-8dd7-4b13-cc81-ae9658121c41"
      },
      "execution_count": null,
      "outputs": [
        {
          "output_type": "stream",
          "name": "stdout",
          "text": [
            "Model: \"sequential\"\n",
            "_________________________________________________________________\n",
            " Layer (type)                Output Shape              Param #   \n",
            "=================================================================\n",
            " conv2d (Conv2D)             (None, 24, 24, 6)         156       \n",
            "                                                                 \n",
            " max_pooling2d (MaxPooling2D  (None, 12, 12, 6)        0         \n",
            " )                                                               \n",
            "                                                                 \n",
            " conv2d_1 (Conv2D)           (None, 8, 8, 16)          2416      \n",
            "                                                                 \n",
            " max_pooling2d_1 (MaxPooling  (None, 4, 4, 16)         0         \n",
            " 2D)                                                             \n",
            "                                                                 \n",
            " flatten (Flatten)           (None, 256)               0         \n",
            "                                                                 \n",
            " dense (Dense)               (None, 120)               30840     \n",
            "                                                                 \n",
            " dense_1 (Dense)             (None, 84)                10164     \n",
            "                                                                 \n",
            " dense_2 (Dense)             (None, 10)                850       \n",
            "                                                                 \n",
            "=================================================================\n",
            "Total params: 44,426\n",
            "Trainable params: 44,426\n",
            "Non-trainable params: 0\n",
            "_________________________________________________________________\n"
          ]
        }
      ]
    },
    {
      "cell_type": "code",
      "source": [
        "model.compile(loss = keras.metrics.categorical_crossentropy ,\n",
        "              optimizer = keras.optimizers.Adam() ,\n",
        "              metrics = ['accuracy'])"
      ],
      "metadata": {
        "id": "cCSvrWSgG5nY"
      },
      "execution_count": null,
      "outputs": []
    },
    {
      "cell_type": "code",
      "source": [
        "model.fit(X_train , \n",
        "          y_train ,\n",
        "          epochs = 20,\n",
        "          verbose = 1,\n",
        "          validation_data = (X_test , y_test))"
      ],
      "metadata": {
        "colab": {
          "base_uri": "https://localhost:8080/"
        },
        "id": "PpUTnhHpHMwy",
        "outputId": "efe89ac9-713b-41d5-e64d-5d1413b35bc2"
      },
      "execution_count": null,
      "outputs": [
        {
          "output_type": "stream",
          "name": "stdout",
          "text": [
            "Epoch 1/20\n",
            "1875/1875 [==============================] - 18s 4ms/step - loss: 0.1839 - accuracy: 0.9431 - val_loss: 0.0595 - val_accuracy: 0.9813\n",
            "Epoch 2/20\n",
            "1875/1875 [==============================] - 7s 4ms/step - loss: 0.0664 - accuracy: 0.9797 - val_loss: 0.0504 - val_accuracy: 0.9839\n",
            "Epoch 3/20\n",
            "1875/1875 [==============================] - 6s 3ms/step - loss: 0.0483 - accuracy: 0.9847 - val_loss: 0.0471 - val_accuracy: 0.9849\n",
            "Epoch 4/20\n",
            "1875/1875 [==============================] - 6s 3ms/step - loss: 0.0368 - accuracy: 0.9879 - val_loss: 0.0451 - val_accuracy: 0.9862\n",
            "Epoch 5/20\n",
            "1875/1875 [==============================] - 6s 3ms/step - loss: 0.0326 - accuracy: 0.9898 - val_loss: 0.0371 - val_accuracy: 0.9887\n",
            "Epoch 6/20\n",
            "1875/1875 [==============================] - 7s 4ms/step - loss: 0.0268 - accuracy: 0.9916 - val_loss: 0.0358 - val_accuracy: 0.9892\n",
            "Epoch 7/20\n",
            "1875/1875 [==============================] - 8s 4ms/step - loss: 0.0218 - accuracy: 0.9928 - val_loss: 0.0375 - val_accuracy: 0.9877\n",
            "Epoch 8/20\n",
            "1875/1875 [==============================] - 6s 3ms/step - loss: 0.0187 - accuracy: 0.9939 - val_loss: 0.0432 - val_accuracy: 0.9868\n",
            "Epoch 9/20\n",
            "1875/1875 [==============================] - 7s 4ms/step - loss: 0.0170 - accuracy: 0.9949 - val_loss: 0.0368 - val_accuracy: 0.9896\n",
            "Epoch 10/20\n",
            "1875/1875 [==============================] - 6s 3ms/step - loss: 0.0152 - accuracy: 0.9951 - val_loss: 0.0422 - val_accuracy: 0.9888\n",
            "Epoch 11/20\n",
            "1875/1875 [==============================] - 7s 3ms/step - loss: 0.0129 - accuracy: 0.9957 - val_loss: 0.0448 - val_accuracy: 0.9888\n",
            "Epoch 12/20\n",
            "1875/1875 [==============================] - 7s 4ms/step - loss: 0.0123 - accuracy: 0.9957 - val_loss: 0.0410 - val_accuracy: 0.9889\n",
            "Epoch 13/20\n",
            "1875/1875 [==============================] - 7s 4ms/step - loss: 0.0116 - accuracy: 0.9961 - val_loss: 0.0476 - val_accuracy: 0.9878\n",
            "Epoch 14/20\n",
            "1875/1875 [==============================] - 7s 3ms/step - loss: 0.0099 - accuracy: 0.9968 - val_loss: 0.0446 - val_accuracy: 0.9874\n",
            "Epoch 15/20\n",
            "1875/1875 [==============================] - 7s 4ms/step - loss: 0.0108 - accuracy: 0.9966 - val_loss: 0.0431 - val_accuracy: 0.9893\n",
            "Epoch 16/20\n",
            "1875/1875 [==============================] - 7s 4ms/step - loss: 0.0092 - accuracy: 0.9969 - val_loss: 0.0487 - val_accuracy: 0.9881\n",
            "Epoch 17/20\n",
            "1875/1875 [==============================] - 6s 3ms/step - loss: 0.0075 - accuracy: 0.9975 - val_loss: 0.0674 - val_accuracy: 0.9867\n",
            "Epoch 18/20\n",
            "1875/1875 [==============================] - 6s 3ms/step - loss: 0.0092 - accuracy: 0.9971 - val_loss: 0.0568 - val_accuracy: 0.9886\n",
            "Epoch 19/20\n",
            "1875/1875 [==============================] - 7s 4ms/step - loss: 0.0072 - accuracy: 0.9975 - val_loss: 0.0558 - val_accuracy: 0.9888\n",
            "Epoch 20/20\n",
            "1875/1875 [==============================] - 7s 3ms/step - loss: 0.0089 - accuracy: 0.9973 - val_loss: 0.0717 - val_accuracy: 0.9868\n"
          ]
        },
        {
          "output_type": "execute_result",
          "data": {
            "text/plain": [
              "<keras.callbacks.History at 0x7fc3904d5d10>"
            ]
          },
          "metadata": {},
          "execution_count": 10
        }
      ]
    },
    {
      "cell_type": "code",
      "source": [
        "score = model.evaluate(X_test , y_test)"
      ],
      "metadata": {
        "colab": {
          "base_uri": "https://localhost:8080/"
        },
        "id": "54fuO7PmHWc6",
        "outputId": "5dddedcb-054e-452d-fbcb-2336908f9b4d"
      },
      "execution_count": null,
      "outputs": [
        {
          "output_type": "stream",
          "name": "stdout",
          "text": [
            "313/313 [==============================] - 1s 3ms/step - loss: 0.0717 - accuracy: 0.9868\n"
          ]
        }
      ]
    },
    {
      "cell_type": "code",
      "source": [
        "print(f\"Test loss : {score[0]}\")\n",
        "print(f\"Test accuracy : {score[1]*100}\")"
      ],
      "metadata": {
        "colab": {
          "base_uri": "https://localhost:8080/"
        },
        "id": "vQ7um06fIaFw",
        "outputId": "8658bee2-f97e-4a3f-831f-4d6d49c5c41c"
      },
      "execution_count": null,
      "outputs": [
        {
          "output_type": "stream",
          "name": "stdout",
          "text": [
            "Test loss : 0.07169406116008759\n",
            "Test accuracy : 98.68000149726868\n"
          ]
        }
      ]
    },
    {
      "cell_type": "code",
      "source": [],
      "metadata": {
        "id": "scEkH-tDIqvA"
      },
      "execution_count": null,
      "outputs": []
    }
  ]
}